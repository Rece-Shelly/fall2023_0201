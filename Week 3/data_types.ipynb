{
 "cells": [
  {
   "attachments": {},
   "cell_type": "markdown",
   "metadata": {},
   "source": [
    "This is a Python Notebook that demonstrates different datatypes in Python.  \n",
    "This textual part is a markdown cell and below there is a code cell.  "
   ]
  },
  {
   "cell_type": "code",
   "execution_count": 2,
   "metadata": {},
   "outputs": [],
   "source": [
    "# This is a code cell in this Python notebook. This line is a Python comment\n",
    "# When you run this cell, nothing will happen because it only contains comments\n",
    "# data = 5\n",
    "# data = 6"
   ]
  },
  {
   "cell_type": "code",
   "execution_count": 3,
   "metadata": {},
   "outputs": [],
   "source": [
    "# However, this cell has actual Python code and when it is run, it will execute the code contained \n",
    "# within this cell\n",
    "data = 5\n",
    "data = 6"
   ]
  },
  {
   "attachments": {},
   "cell_type": "markdown",
   "metadata": {},
   "source": [
    "### Datatypes\n",
    "Each code cell below creates a variable and prints its type to console output.  \n",
    "In Python, we can check the type of a variable by calling 'type()' function. \n"
   ]
  },
  {
   "cell_type": "code",
   "execution_count": 5,
   "metadata": {},
   "outputs": [
    {
     "name": "stdout",
     "output_type": "stream",
     "text": [
      "text data\n",
      "<class 'str'>\n"
     ]
    }
   ],
   "source": [
    "# Str type - Text type\n",
    "data = 'text data'\n",
    "print(data)\n",
    "print(type(data))"
   ]
  },
  {
   "cell_type": "code",
   "execution_count": 6,
   "metadata": {},
   "outputs": [
    {
     "name": "stdout",
     "output_type": "stream",
     "text": [
      "100\n",
      "<class 'int'>\n"
     ]
    }
   ],
   "source": [
    "# int type - Numeric Type\n",
    "data = 100\n",
    "print(data)\n",
    "print(type(data))"
   ]
  },
  {
   "cell_type": "code",
   "execution_count": 7,
   "metadata": {},
   "outputs": [
    {
     "name": "stdout",
     "output_type": "stream",
     "text": [
      "[100, 200]\n",
      "<class 'list'>\n"
     ]
    }
   ],
   "source": [
    "# list type - Sequence Type\n",
    "data = [100,200]\n",
    "print(data)\n",
    "print(type(data))"
   ]
  },
  {
   "cell_type": "code",
   "execution_count": 13,
   "metadata": {},
   "outputs": [
    {
     "name": "stdout",
     "output_type": "stream",
     "text": [
      "{'num1': 100, 'num2': 200, 'num3': 100}\n",
      "<class 'dict'>\n"
     ]
    }
   ],
   "source": [
    "# dict(ionary) type - Mapping type\n",
    "data = {'num1':100,'num2':200,'num3':100}\n",
    "print(data)\n",
    "print(type(data))"
   ]
  },
  {
   "cell_type": "code",
   "execution_count": 14,
   "metadata": {},
   "outputs": [
    {
     "name": "stdout",
     "output_type": "stream",
     "text": [
      "{200, 100}\n",
      "<class 'set'>\n"
     ]
    }
   ],
   "source": [
    "# set type - Set type\n",
    "data = {100, 200, 100}\n",
    "print(data)\n",
    "print(type(data))"
   ]
  },
  {
   "cell_type": "code",
   "execution_count": 15,
   "metadata": {},
   "outputs": [
    {
     "name": "stdout",
     "output_type": "stream",
     "text": [
      "True\n",
      "<class 'bool'>\n"
     ]
    }
   ],
   "source": [
    "# bool type - Boolean type\n",
    "data = True\n",
    "print(data)\n",
    "print(type(data))"
   ]
  },
  {
   "cell_type": "code",
   "execution_count": 18,
   "metadata": {},
   "outputs": [
    {
     "name": "stdout",
     "output_type": "stream",
     "text": [
      "b'this is a bytes type in UTF-8 encoding. See the \"b\" at the beginning. '\n",
      "<class 'bytes'>\n"
     ]
    }
   ],
   "source": [
    "# bytes type - Binary type\n",
    "data = bytes('this is a bytes type in UTF-8 encoding. See the \"b\" at the beginning. ', 'utf-8')\n",
    "print(data)\n",
    "print(type(data))"
   ]
  },
  {
   "cell_type": "code",
   "execution_count": 19,
   "metadata": {},
   "outputs": [
    {
     "name": "stdout",
     "output_type": "stream",
     "text": [
      "None\n",
      "<class 'NoneType'>\n"
     ]
    }
   ],
   "source": [
    "# This is a useful but strange datatype, NoneType.\n",
    "# Actually, this means there is no data but still it is a type like an empty set notation in Math\n",
    "data = None\n",
    "print(data)\n",
    "print(type(data))"
   ]
  }
 ],
 "metadata": {
  "kernelspec": {
   "display_name": ".env",
   "language": "python",
   "name": "python3"
  },
  "language_info": {
   "codemirror_mode": {
    "name": "ipython",
    "version": 3
   },
   "file_extension": ".py",
   "mimetype": "text/x-python",
   "name": "python",
   "nbconvert_exporter": "python",
   "pygments_lexer": "ipython3",
   "version": "3.7.4"
  },
  "orig_nbformat": 4
 },
 "nbformat": 4,
 "nbformat_minor": 2
}
