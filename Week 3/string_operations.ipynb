{
 "cells": [
  {
   "attachments": {},
   "cell_type": "markdown",
   "metadata": {},
   "source": [
    "**String Operations**  \n",
    "\n",
    "In this notebook we will explore some String operations.  "
   ]
  },
  {
   "cell_type": "code",
   "execution_count": 2,
   "metadata": {},
   "outputs": [],
   "source": [
    "first_name = \"Harry\"\n",
    "n = len(first_name)"
   ]
  },
  {
   "cell_type": "code",
   "execution_count": 3,
   "metadata": {},
   "outputs": [
    {
     "name": "stdout",
     "output_type": "stream",
     "text": [
      "Bruce Wayne\n"
     ]
    }
   ],
   "source": [
    "first_name = 'Bruce'\n",
    "last_name = 'Wayne'\n",
    "\n",
    "full_name = first_name + ' ' + last_name\n",
    "print(full_name)"
   ]
  },
  {
   "cell_type": "code",
   "execution_count": 4,
   "metadata": {},
   "outputs": [
    {
     "name": "stdout",
     "output_type": "stream",
     "text": [
      "Bruce Wayne\n"
     ]
    }
   ],
   "source": [
    "full_name = 'Bruce '\n",
    "full_name += 'Wayne'\n",
    "\n",
    "print(full_name)"
   ]
  },
  {
   "cell_type": "code",
   "execution_count": 5,
   "metadata": {},
   "outputs": [
    {
     "name": "stdout",
     "output_type": "stream",
     "text": [
      "AppleAppleApple\n"
     ]
    }
   ],
   "source": [
    "text = 'Apple'\n",
    "print(text * 3)"
   ]
  },
  {
   "cell_type": "code",
   "execution_count": 6,
   "metadata": {},
   "outputs": [
    {
     "name": "stdout",
     "output_type": "stream",
     "text": [
      "My age is 35\n"
     ]
    }
   ],
   "source": [
    "age = 35\n",
    "age_text = \"My age is \"\n",
    "print(age_text + str(age))"
   ]
  },
  {
   "cell_type": "code",
   "execution_count": 9,
   "metadata": {},
   "outputs": [],
   "source": [
    "first_name = \"Harry\"\n",
    "start_character = first_name[0] # H\n",
    "last_character = first_name[4] \t# y\n",
    "char_sequence = first_name[1:3] # “ar”"
   ]
  },
  {
   "cell_type": "code",
   "execution_count": 10,
   "metadata": {},
   "outputs": [
    {
     "name": "stdout",
     "output_type": "stream",
     "text": [
      "Q\n",
      "e\n"
     ]
    }
   ],
   "source": [
    "text = 'Don Quijote'\n",
    "print(text[4]) # Gets the 5th character 'Q'\n",
    "print(text[-1]) # Gets the last character 'e'"
   ]
  },
  {
   "cell_type": "code",
   "execution_count": 11,
   "metadata": {},
   "outputs": [
    {
     "name": "stdout",
     "output_type": "stream",
     "text": [
      "Quij\n",
      "Quijote\n",
      "Don \n",
      "Don Quijote\n"
     ]
    }
   ],
   "source": [
    "text = 'Don Quijote'\n",
    "print(text[4:8]) # Slices the text 'Quij'\n",
    "print(text[4:]) # Slices the text from index 4 to the end of the string 'Quijote'\n",
    "print(text[:4]) # Slices the text up to index 4 (not included) 'Don'\n",
    "print(text[:]) # Whole text, no slicing"
   ]
  }
 ],
 "metadata": {
  "kernelspec": {
   "display_name": ".env",
   "language": "python",
   "name": "python3"
  },
  "language_info": {
   "codemirror_mode": {
    "name": "ipython",
    "version": 3
   },
   "file_extension": ".py",
   "mimetype": "text/x-python",
   "name": "python",
   "nbconvert_exporter": "python",
   "pygments_lexer": "ipython3",
   "version": "3.7.4"
  },
  "orig_nbformat": 4
 },
 "nbformat": 4,
 "nbformat_minor": 2
}
