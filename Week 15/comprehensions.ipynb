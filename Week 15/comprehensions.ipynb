{
 "cells": [
  {
   "cell_type": "markdown",
   "metadata": {},
   "source": [
    "### Comprehensions in Python  \n",
    "\n",
    "Here we will cover comprehensions in Python.  "
   ]
  },
  {
   "cell_type": "markdown",
   "metadata": {},
   "source": [
    "#### List Comprehensions"
   ]
  },
  {
   "cell_type": "markdown",
   "metadata": {},
   "source": [
    "**Example #1:** Suppose we want to create an output list that contains the negated values present in an input list.\n",
    "\n",
    "Let’s see how to do this using for loops and a map function. Then see how we can create the same list using List Comprehensions."
   ]
  },
  {
   "cell_type": "code",
   "execution_count": 9,
   "metadata": {},
   "outputs": [
    {
     "name": "stdout",
     "output_type": "stream",
     "text": [
      "[-1, -2, -3, -4, -14, -15, -16, -17, -27]\n"
     ]
    }
   ],
   "source": [
    "# Using a for loop\n",
    "input_list = [1, 2, 3, 4, 14, 15, 16, 17, 27]\n",
    "output_list = []\n",
    "\n",
    "for value in input_list:\n",
    "    output_list.append(-value)\n",
    "\n",
    "print(output_list)"
   ]
  },
  {
   "cell_type": "code",
   "execution_count": 10,
   "metadata": {},
   "outputs": [
    {
     "name": "stdout",
     "output_type": "stream",
     "text": [
      "[-1, -2, -3, -4, -14, -15, -16, -17, -27]\n"
     ]
    }
   ],
   "source": [
    "# Using the map function\n",
    "input_list = [1, 2, 3, 4, 14, 15, 16, 17, 27]\n",
    "\n",
    "output_list = list(map(lambda x: -x, input_list))\n",
    "\n",
    "print(output_list)"
   ]
  },
  {
   "cell_type": "code",
   "execution_count": 11,
   "metadata": {},
   "outputs": [
    {
     "name": "stdout",
     "output_type": "stream",
     "text": [
      "[-1, -2, -3, -4, -14, -15, -16, -17, -27]\n"
     ]
    }
   ],
   "source": [
    "# What about list comprehension\n",
    "input_list = [1, 2, 3, 4, 14, 15, 16, 17, 27]\n",
    "\n",
    "output_list = [-x for x in input_list]\n",
    "\n",
    "print(output_list)"
   ]
  },
  {
   "cell_type": "markdown",
   "metadata": {},
   "source": [
    "**Example #2:** Suppose we want to create an output list which contains only the even numbers which are present in the input list.  \n",
    "\n",
    "Let’s see how to do this using for loops and a filter function. Then see how we can create the same list using List Comprehensions."
   ]
  },
  {
   "cell_type": "code",
   "execution_count": 1,
   "metadata": {},
   "outputs": [
    {
     "name": "stdout",
     "output_type": "stream",
     "text": [
      "Output List using for loop: [2, 4, 14, 16]\n"
     ]
    }
   ],
   "source": [
    "# Using a for loop\n",
    "input_list = [1, 2, 3, 4, 14, 15, 16, 17, 27]\n",
    "output_list = []\n",
    "\n",
    "for value in input_list:\n",
    "    if value % 2 == 0:\n",
    "        output_list.append(value)\n",
    "\n",
    "print(\"Output List using for loop:\", output_list)"
   ]
  },
  {
   "cell_type": "code",
   "execution_count": 13,
   "metadata": {},
   "outputs": [
    {
     "name": "stdout",
     "output_type": "stream",
     "text": [
      "Output List using filter function: [2, 4, 14, 16]\n"
     ]
    }
   ],
   "source": [
    "# Using the filter function\n",
    "\n",
    "input_list = [1, 2, 3, 4, 14, 15, 16, 17, 27]\n",
    "\n",
    "output_list = list(filter(lambda x: x % 2 == 0, input_list))\n",
    "\n",
    "print(\"Output List using filter function:\", output_list)"
   ]
  },
  {
   "cell_type": "code",
   "execution_count": 12,
   "metadata": {},
   "outputs": [
    {
     "name": "stdout",
     "output_type": "stream",
     "text": [
      "Output List using comprehension: [2, 4, 14, 16]\n"
     ]
    }
   ],
   "source": [
    "# What about list comprehensions?\n",
    "input_list = [1, 2, 3, 4, 14, 15, 16, 17, 27]\n",
    "\n",
    "output_list = [val for val in input_list if val % 2 ==0]\n",
    "\n",
    "print(\"Output List using comprehension:\", output_list)"
   ]
  },
  {
   "cell_type": "code",
   "execution_count": 16,
   "metadata": {},
   "outputs": [
    {
     "name": "stdout",
     "output_type": "stream",
     "text": [
      "['test', 'all', 'small', 'camelcase', 'snake_case']\n"
     ]
    }
   ],
   "source": [
    "input_list = ['Test', 'ALL', 'small', 'CamelCase', 'snake_case']\n",
    "\n",
    "output_list = [val.lower() for val in input_list]\n",
    "\n",
    "print(output_list)"
   ]
  },
  {
   "cell_type": "markdown",
   "metadata": {},
   "source": [
    "#### Dictionary Comprehensions"
   ]
  },
  {
   "cell_type": "code",
   "execution_count": 18,
   "metadata": {},
   "outputs": [
    {
     "name": "stdout",
     "output_type": "stream",
     "text": [
      "{1: 1, 3: 27, 5: 125, 7: 343}\n"
     ]
    }
   ],
   "source": [
    "input_list = [1,2,3,4,5,6,7]\n",
    "  \n",
    "output_dict = {var:var ** 3 for var in input_list if var % 2 != 0}\n",
    "  \n",
    "print(output_dict)"
   ]
  },
  {
   "cell_type": "markdown",
   "metadata": {},
   "source": [
    "**Exampple**: Use of zip() together with dictionary comprehension.\n",
    "\n",
    "Create a dictionary of state name - capital using two separate lists."
   ]
  },
  {
   "cell_type": "code",
   "execution_count": 20,
   "metadata": {},
   "outputs": [],
   "source": [
    "state = ['Virginia', 'New York', 'Pennsylvania']\n",
    "capital = ['Richmond', 'Albany', 'Harrisburg']"
   ]
  },
  {
   "cell_type": "code",
   "execution_count": 24,
   "metadata": {},
   "outputs": [
    {
     "name": "stdout",
     "output_type": "stream",
     "text": [
      "('Virginia', 'Richmond')\n",
      "('New York', 'Albany')\n",
      "('Pennsylvania', 'Harrisburg')\n"
     ]
    }
   ],
   "source": [
    "for item in zip(state, capital):\n",
    "    print(item)"
   ]
  },
  {
   "cell_type": "code",
   "execution_count": 25,
   "metadata": {},
   "outputs": [
    {
     "name": "stdout",
     "output_type": "stream",
     "text": [
      "{'Virginia': 'Richmond', 'New York': 'Albany', 'Pennsylvania': 'Harrisburg'}\n"
     ]
    }
   ],
   "source": [
    "output_dict = {key:value for (key, value) in zip(state, capital)}\n",
    "  \n",
    "print(output_dict)"
   ]
  }
 ],
 "metadata": {
  "kernelspec": {
   "display_name": ".env",
   "language": "python",
   "name": "python3"
  },
  "language_info": {
   "codemirror_mode": {
    "name": "ipython",
    "version": 3
   },
   "file_extension": ".py",
   "mimetype": "text/x-python",
   "name": "python",
   "nbconvert_exporter": "python",
   "pygments_lexer": "ipython3",
   "version": "3.7.4"
  }
 },
 "nbformat": 4,
 "nbformat_minor": 2
}
