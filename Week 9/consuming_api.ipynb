{
 "cells": [
  {
   "attachments": {},
   "cell_type": "markdown",
   "metadata": {},
   "source": [
    "**Consuming a RESTful API**\n",
    "- Write a Python script to make GET/POST requests\n",
    "- Use GitHub API and JSON fake API: https://jsonplaceholder.typicode.com/todos\n",
    "- We will store the API responses and serialize/deserialize to/from a JSON file.  \n"
   ]
  },
  {
   "cell_type": "code",
   "execution_count": 3,
   "metadata": {},
   "outputs": [],
   "source": [
    "import requests # Use to perform HTTP requests\n",
    "import json # To convert Python objects to JSON payloads"
   ]
  },
  {
   "attachments": {},
   "cell_type": "markdown",
   "metadata": {},
   "source": [
    "Performing a GET request to GitHub API  \n",
    "\n",
    "1- Defined the API URL  \n",
    "2- Using *requests* package, performed a GET request  \n",
    "3- Store the response in response variable  \n",
    "4- Get the response in JSON format   "
   ]
  },
  {
   "cell_type": "code",
   "execution_count": 4,
   "metadata": {},
   "outputs": [
    {
     "data": {
      "text/plain": [
       "{'login': 'cskamil',\n",
       " 'id': 3288679,\n",
       " 'node_id': 'MDQ6VXNlcjMyODg2Nzk=',\n",
       " 'avatar_url': 'https://avatars.githubusercontent.com/u/3288679?v=4',\n",
       " 'gravatar_id': '',\n",
       " 'url': 'https://api.github.com/users/cskamil',\n",
       " 'html_url': 'https://github.com/cskamil',\n",
       " 'followers_url': 'https://api.github.com/users/cskamil/followers',\n",
       " 'following_url': 'https://api.github.com/users/cskamil/following{/other_user}',\n",
       " 'gists_url': 'https://api.github.com/users/cskamil/gists{/gist_id}',\n",
       " 'starred_url': 'https://api.github.com/users/cskamil/starred{/owner}{/repo}',\n",
       " 'subscriptions_url': 'https://api.github.com/users/cskamil/subscriptions',\n",
       " 'organizations_url': 'https://api.github.com/users/cskamil/orgs',\n",
       " 'repos_url': 'https://api.github.com/users/cskamil/repos',\n",
       " 'events_url': 'https://api.github.com/users/cskamil/events{/privacy}',\n",
       " 'received_events_url': 'https://api.github.com/users/cskamil/received_events',\n",
       " 'type': 'User',\n",
       " 'site_admin': False,\n",
       " 'name': 'Kamil Akhuseyinoglu',\n",
       " 'company': None,\n",
       " 'blog': 'kakhuseyinoglu.wordpress.com',\n",
       " 'location': 'Pittsburgh',\n",
       " 'email': None,\n",
       " 'hireable': None,\n",
       " 'bio': 'Ph.D. student at School of Computing and Information, University of Pittsburgh',\n",
       " 'twitter_username': None,\n",
       " 'public_repos': 13,\n",
       " 'public_gists': 0,\n",
       " 'followers': 3,\n",
       " 'following': 0,\n",
       " 'created_at': '2013-01-16T19:09:24Z',\n",
       " 'updated_at': '2023-10-19T11:16:51Z'}"
      ]
     },
     "execution_count": 4,
     "metadata": {},
     "output_type": "execute_result"
    }
   ],
   "source": [
    "api_url = \"https://api.github.com/users/cskamil\"\n",
    "response = requests.get(api_url)\n",
    "response.json()"
   ]
  },
  {
   "cell_type": "code",
   "execution_count": 10,
   "metadata": {},
   "outputs": [
    {
     "name": "stdout",
     "output_type": "stream",
     "text": [
      "<class 'requests.models.Response'>\n",
      "<class 'dict'>\n"
     ]
    }
   ],
   "source": [
    "print(type(response))\n",
    "print(type(response.json()))"
   ]
  },
  {
   "attachments": {},
   "cell_type": "markdown",
   "metadata": {},
   "source": [
    "Before performing a POST request, let's do some conversion between Python objects and JSON  "
   ]
  },
  {
   "cell_type": "code",
   "execution_count": 28,
   "metadata": {},
   "outputs": [
    {
     "name": "stdout",
     "output_type": "stream",
     "text": [
      "<class 'dict'>\n",
      "{'id': 5, 'name': 'Kamil', 'graduated': False}\n",
      "<class 'str'>\n",
      "{\"id\": 5, \"name\": \"Kamil\", \"graduated\": false}\n",
      "<class 'dict'>\n",
      "{'id': 5, 'name': 'Kamil', 'graduated': False}\n",
      "Do we have the same data? True\n",
      "Do we have the same object? False\n"
     ]
    }
   ],
   "source": [
    "# Create a Python Dictionary\n",
    "simple_data = {'id':5, 'name': 'Kamil', 'graduated': False}\n",
    "print(type(simple_data))\n",
    "print(simple_data)\n",
    "\n",
    "# Convert it to JSON string\n",
    "simple_json = json.dumps(simple_data)\n",
    "print(type(simple_json))\n",
    "print(simple_json)\n",
    "\n",
    "# Covert JSON string back to a Python dictionary\n",
    "converted_data = json.loads(simple_json)\n",
    "print(type(converted_data))\n",
    "print(converted_data)\n",
    "\n",
    "print('Do we have the same dictionary content?', converted_data == simple_data) # We have the exact same data after conversion! But we are lucky!\n",
    "print('Do we have the same object?', converted_data is simple_data) # We have created a new object"
   ]
  },
  {
   "cell_type": "code",
   "execution_count": 38,
   "metadata": {},
   "outputs": [
    {
     "name": "stdout",
     "output_type": "stream",
     "text": [
      "Do we have the same same dictionary content? False\n",
      "{'id': 5, 'name': 'Kamil', 'graduated': False, 'courses': ['0201', '0401']}\n",
      "{'id': 5, 'name': 'Kamil', 'graduated': False, 'courses': ('0201', '0401')}\n"
     ]
    }
   ],
   "source": [
    "# Let's demonstrate that we were lucky\n",
    "simple_data = {'id':5, 'name': 'Kamil', 'graduated': False, 'courses':('0201','0401')}\n",
    "\n",
    "# Convert it to JSON string\n",
    "simple_json = json.dumps(simple_data)\n",
    "\n",
    "# Covert JSON string back to a Python dictionary\n",
    "converted_data = json.loads(simple_json)\n",
    "\n",
    "print('Do we have the same same dictionary content?', converted_data == simple_data)\n",
    "print(converted_data)\n",
    "print(simple_data)"
   ]
  },
  {
   "attachments": {},
   "cell_type": "markdown",
   "metadata": {},
   "source": [
    "Now, it is time to perform a POST request to JSONPlaceholder Fake API  "
   ]
  },
  {
   "cell_type": "code",
   "execution_count": 26,
   "metadata": {},
   "outputs": [
    {
     "name": "stdout",
     "output_type": "stream",
     "text": [
      "{'userId': 1, 'title': 'Buy milk', 'completed': False, 'id': 201}\n",
      "201\n"
     ]
    }
   ],
   "source": [
    "api_url = \"https://jsonplaceholder.typicode.com/todos\"\n",
    "todo_data = {\"userId\": 1, \"title\": \"Buy milk\", \"completed\": False} # Python dict\n",
    "\n",
    "request_header = {\"Content-Type\":\"application/json\"} # We are specfying that we want to use JSON\n",
    "\n",
    "todo_json = json.dumps(todo_data) # Converting to JSON string\n",
    "\n",
    "post_response = requests.post(api_url, data=todo_json, headers=request_header)\n",
    "print(post_response.json())\n",
    "print(post_response.status_code)"
   ]
  },
  {
   "attachments": {},
   "cell_type": "markdown",
   "metadata": {},
   "source": [
    "More simple way to do the same request  \n",
    "Middle steps are performed automatically by the requests package  "
   ]
  },
  {
   "cell_type": "code",
   "execution_count": 27,
   "metadata": {},
   "outputs": [
    {
     "name": "stdout",
     "output_type": "stream",
     "text": [
      "{'userId': 1, 'title': 'Buy milk', 'completed': False, 'id': 201}\n",
      "201\n"
     ]
    }
   ],
   "source": [
    "api_url = \"https://jsonplaceholder.typicode.com/todos\"\n",
    "todo_data = {\"userId\": 1, \"title\": \"Buy milk\", \"completed\": False} # Python dict\n",
    "\n",
    "post_response = requests.post(api_url, json=todo_data)\n",
    "print(post_response.json())\n",
    "print(post_response.status_code)"
   ]
  },
  {
   "attachments": {},
   "cell_type": "markdown",
   "metadata": {},
   "source": [
    "Serialize JSON data to a JSON file  \n",
    "\n",
    "- We open a file with 'w'rite permissions\n",
    "- Use json package to write post request response to be stored\n",
    "- Pass indent=4 to have more readable JSON file"
   ]
  },
  {
   "cell_type": "code",
   "execution_count": 32,
   "metadata": {},
   "outputs": [],
   "source": [
    "with open(\"post_response.json\", \"w\") as write_file:\n",
    "    json.dump(post_response.json(), write_file) # Try with indent=4 parameter"
   ]
  },
  {
   "attachments": {},
   "cell_type": "markdown",
   "metadata": {},
   "source": [
    "Deserialize JSON file to JSON  \n",
    "\n",
    "- We open a file with 'w'rite permissions\n",
    "- Use json package to write post request response to be stored\n",
    "- Pass indent=4 to have more readable JSON file"
   ]
  },
  {
   "cell_type": "code",
   "execution_count": 42,
   "metadata": {},
   "outputs": [
    {
     "name": "stdout",
     "output_type": "stream",
     "text": [
      "{'userId': 1, 'title': 'Buy milk', 'completed': False, 'id': 201}\n",
      "{'userId': 1, 'title': 'Buy milk', 'completed': False, 'id': 201}\n"
     ]
    }
   ],
   "source": [
    "with open(\"post_response.json\", \"r\") as read_file:\n",
    "    response_data_des = json.load(read_file)\n",
    "\n",
    "print(response_data_des)\n",
    "print(post_response.json())"
   ]
  }
 ],
 "metadata": {
  "kernelspec": {
   "display_name": ".env",
   "language": "python",
   "name": "python3"
  },
  "language_info": {
   "codemirror_mode": {
    "name": "ipython",
    "version": 3
   },
   "file_extension": ".py",
   "mimetype": "text/x-python",
   "name": "python",
   "nbconvert_exporter": "python",
   "pygments_lexer": "ipython3",
   "version": "3.7.4"
  },
  "orig_nbformat": 4
 },
 "nbformat": 4,
 "nbformat_minor": 2
}
