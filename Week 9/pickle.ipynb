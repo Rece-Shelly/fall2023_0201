{
 "cells": [
  {
   "attachments": {},
   "cell_type": "markdown",
   "metadata": {},
   "source": [
    "**Serialization/Deserialization of Python Objects with pickle package**"
   ]
  },
  {
   "cell_type": "code",
   "execution_count": 5,
   "metadata": {},
   "outputs": [],
   "source": [
    "import pickle"
   ]
  },
  {
   "cell_type": "code",
   "execution_count": 2,
   "metadata": {},
   "outputs": [],
   "source": [
    "# Let's create an example class that we want to serialize\n",
    "\n",
    "class PickleExample:\n",
    "    a_number = 35\n",
    "    a_string = \"hey\"\n",
    "    a_list = [1, 2, 3]\n",
    "    a_dict = {\"first\": \"a\", \"second\": 2, \"third\": [1, 2, 3]}\n",
    "    a_tuple = (22, 23)"
   ]
  },
  {
   "cell_type": "code",
   "execution_count": 8,
   "metadata": {},
   "outputs": [
    {
     "name": "stdout",
     "output_type": "stream",
     "text": [
      "This is my pickled object: \n",
      " b'\\x80\\x03c__main__\\nPickleExample\\nq\\x00)\\x81q\\x01.'\n",
      "{'first': 'a', 'second': 2, 'third': [1, 2, 3]}\n",
      "None\n",
      "(22, 23)\n"
     ]
    }
   ],
   "source": [
    "# Now let's create an object of this class and serialize\n",
    "\n",
    "example_object = PickleExample()\n",
    "\n",
    "pickled_object = pickle.dumps(example_object)  # Pickling the object\n",
    "print(\"This is my pickled object:\",\"\\n\", pickled_object)\n",
    "\n",
    "example_object.a_dict = None\n",
    "\n",
    "unpickled_object = pickle.loads(pickled_object)  # Unpickling the object\n",
    "\n",
    "print(unpickled_object.a_dict)\n",
    "print(unpickled_object.a_tuple)\n",
    "\n",
    "print(example_object.a_dict)"
   ]
  },
  {
   "attachments": {},
   "cell_type": "markdown",
   "metadata": {},
   "source": [
    "Above, we serialized/deserialized to string but we can save pickled objects to files.  "
   ]
  },
  {
   "cell_type": "code",
   "execution_count": 11,
   "metadata": {},
   "outputs": [],
   "source": [
    "# Now let's create an object of this class and serialize\n",
    "\n",
    "example_object = PickleExample()\n",
    "\n",
    "# Open a file pointer with 'w'riting byte mode => creating a file\n",
    "with open(\"example.pkl\", \"wb\") as pickle_file:\n",
    "    pickle.dump(example_object, pickle_file)"
   ]
  },
  {
   "cell_type": "code",
   "execution_count": 10,
   "metadata": {},
   "outputs": [
    {
     "name": "stdout",
     "output_type": "stream",
     "text": [
      "{'first': 'a', 'second': 2, 'third': [1, 2, 3]}\n",
      "(22, 23)\n"
     ]
    }
   ],
   "source": [
    "# Open a file pointer with 'r'eading byte mode\n",
    "with open(\"example.pkl\", \"rb\") as pickle_file:\n",
    "    unpickled_object = pickle.load(pickle_file)  # Unpickling the object\n",
    "\n",
    "print(unpickled_object.a_dict)\n",
    "print(unpickled_object.a_tuple)\n"
   ]
  },
  {
   "cell_type": "code",
   "execution_count": 14,
   "metadata": {},
   "outputs": [],
   "source": [
    "import bz2\n",
    "\n",
    "with bz2.BZ2File(\"example_compressed.pkl\", \"wb\") as pickle_file:\n",
    "    pickle.dump(example_object, pickle_file)"
   ]
  }
 ],
 "metadata": {
  "kernelspec": {
   "display_name": ".env",
   "language": "python",
   "name": "python3"
  },
  "language_info": {
   "codemirror_mode": {
    "name": "ipython",
    "version": 3
   },
   "file_extension": ".py",
   "mimetype": "text/x-python",
   "name": "python",
   "nbconvert_exporter": "python",
   "pygments_lexer": "ipython3",
   "version": "3.7.4"
  },
  "orig_nbformat": 4
 },
 "nbformat": 4,
 "nbformat_minor": 2
}
