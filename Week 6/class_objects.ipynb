{
 "cells": [
  {
   "attachments": {},
   "cell_type": "markdown",
   "metadata": {},
   "source": [
    "**Classes and Objects**  \n",
    "\n",
    "In this notebook, we will see examples of classes and instances created from those classes."
   ]
  },
  {
   "cell_type": "code",
   "execution_count": 1,
   "metadata": {},
   "outputs": [],
   "source": [
    "class Guitar:\n",
    "    color = 'black'\n",
    "    num_strings = 6\n",
    "    has_tremolo = True"
   ]
  },
  {
   "cell_type": "code",
   "execution_count": 6,
   "metadata": {},
   "outputs": [
    {
     "name": "stdout",
     "output_type": "stream",
     "text": [
      "black\n",
      "black\n",
      "black\n"
     ]
    }
   ],
   "source": [
    "# Let's create an instance of Guitar and access its properties\n",
    "my_guitar = Guitar()\n",
    "print(my_guitar.color)\n",
    "print(my_guitar.__class__.color)\n",
    "print(my_guitar.__getattribute__('color'))"
   ]
  },
  {
   "cell_type": "code",
   "execution_count": 1,
   "metadata": {},
   "outputs": [],
   "source": [
    "# Let's create a class with its contructor\n",
    "class Dice:\n",
    "    def __init__(self):\n",
    "        self.sides = 6\n",
    "\n",
    "class Car:\n",
    "    def __init__(self, brand, color, license, mileage):\n",
    "        self.brand = brand\n",
    "        self.color = color\n",
    "        self.license_plate = license\n",
    "        self.mileage = mileage"
   ]
  },
  {
   "cell_type": "code",
   "execution_count": 2,
   "metadata": {},
   "outputs": [
    {
     "name": "stdout",
     "output_type": "stream",
     "text": [
      "XYZ123\n",
      "30000\n",
      "white\n"
     ]
    }
   ],
   "source": [
    "my_car = Car('Ford', 'white', 'XYZ123', 30000)\n",
    "\n",
    "print(my_car.license_plate)\n",
    "print(my_car.mileage)\n",
    "print(my_car.color)"
   ]
  },
  {
   "cell_type": "code",
   "execution_count": 3,
   "metadata": {},
   "outputs": [
    {
     "name": "stdout",
     "output_type": "stream",
     "text": [
      "XYZ123\n",
      "30000\n",
      "white\n"
     ]
    }
   ],
   "source": [
    "# Now create the same Car object using named attributes\n",
    "my_car = Car(brand='Ford', color='white', license='XYZ123', mileage=30000)\n",
    "\n",
    "print(my_car.license_plate)\n",
    "print(my_car.mileage)\n",
    "print(my_car.color)"
   ]
  },
  {
   "attachments": {},
   "cell_type": "markdown",
   "metadata": {},
   "source": [
    "**Visibility**  \n",
    "\n",
    "Let's define the Car class with private properties instead of public"
   ]
  },
  {
   "cell_type": "code",
   "execution_count": null,
   "metadata": {},
   "outputs": [],
   "source": [
    "class Car:\n",
    "    def __init__(self, brand, color, license_plate, mileage):\n",
    "        self.__brand = brand\n",
    "        self.__color = color\n",
    "        self.__license = license_plate\n",
    "        self.__mileage = mileage\n",
    "    \n",
    "    def set_brand(self, brand_name):\n",
    "        self.__brand = brand_name\n",
    "    \n",
    "    def get_brand(self):\n",
    "        return self.__brand"
   ]
  }
 ],
 "metadata": {
  "kernelspec": {
   "display_name": ".env",
   "language": "python",
   "name": "python3"
  },
  "language_info": {
   "codemirror_mode": {
    "name": "ipython",
    "version": 3
   },
   "file_extension": ".py",
   "mimetype": "text/x-python",
   "name": "python",
   "nbconvert_exporter": "python",
   "pygments_lexer": "ipython3",
   "version": "3.7.4"
  },
  "orig_nbformat": 4
 },
 "nbformat": 4,
 "nbformat_minor": 2
}
