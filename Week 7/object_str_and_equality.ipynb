{
 "cells": [
  {
   "attachments": {},
   "cell_type": "markdown",
   "metadata": {},
   "source": [
    "**Here we will demonstrate how we can override object built-in functions**  \n",
    "\n",
    "We already know that str() function converts an object to string.  \n",
    "We also know that == checks if two objects are exactly the same.  \n",
    "\n",
    "HOW CAN WE CHANGE HOW Python OPERATES??  "
   ]
  },
  {
   "attachments": {},
   "cell_type": "markdown",
   "metadata": {},
   "source": [
    "### Overriding str() method"
   ]
  },
  {
   "cell_type": "code",
   "execution_count": 8,
   "metadata": {},
   "outputs": [],
   "source": [
    "class Person:\n",
    "    def __init__(self, fname, lname):\n",
    "        self._firstname = fname\n",
    "        self._lastname = lname\n",
    "\n",
    "    def printname(self):\n",
    "\t    print(self._firstname, self._lastname)\n",
    "\n",
    "class Student(Person):\n",
    "    def __init__(self, first_name, last_name, student_id=0):\n",
    "        super().__init__(first_name, last_name)\n",
    "        self.__student_id = student_id\n",
    "\n",
    "    def get_student_id(self):\n",
    "        return self.__student_id\n",
    "    \n",
    "    def get_student_info(self):\n",
    "        return ' '.join([self._firstname, self._lastname, str(self.__student_id)])"
   ]
  },
  {
   "cell_type": "code",
   "execution_count": 9,
   "metadata": {},
   "outputs": [
    {
     "name": "stdout",
     "output_type": "stream",
     "text": [
      "Kamil Akhuseyinoglu 123\n",
      "<__main__.Student object at 0x1109d4450>\n"
     ]
    }
   ],
   "source": [
    "student = Student('Kamil', 'Akhuseyinoglu', 123)\n",
    "print(student.get_student_info())\n",
    "print(str(student))"
   ]
  },
  {
   "attachments": {},
   "cell_type": "markdown",
   "metadata": {},
   "source": [
    "Let's say that I want Python to call print_student_info method when I call the str method.  \n",
    "\n",
    "I need to override \\_\\_str\\_\\_ method of the object class.  "
   ]
  },
  {
   "cell_type": "code",
   "execution_count": 10,
   "metadata": {},
   "outputs": [],
   "source": [
    "class Student(Person):\n",
    "    def __init__(self, first_name, last_name, student_id=0):\n",
    "        super().__init__(first_name, last_name)\n",
    "        self.__student_id = student_id\n",
    "\n",
    "    def get_student_id(self):\n",
    "        return self.__student_id\n",
    "    \n",
    "    def get_student_info(self):\n",
    "        return ' '.join([self._firstname, self._lastname, str(self.__student_id)])\n",
    "    \n",
    "    def __str__(self) -> str:\n",
    "        return self.get_student_info()\n",
    "        "
   ]
  },
  {
   "cell_type": "code",
   "execution_count": 11,
   "metadata": {},
   "outputs": [
    {
     "name": "stdout",
     "output_type": "stream",
     "text": [
      "Kamil Akhuseyinoglu 123\n",
      "Kamil Akhuseyinoglu 123\n"
     ]
    }
   ],
   "source": [
    "student = Student('Kamil', 'Akhuseyinoglu', 123)\n",
    "print(student.get_student_info())\n",
    "print(str(student))"
   ]
  },
  {
   "attachments": {},
   "cell_type": "markdown",
   "metadata": {},
   "source": [
    "### Object Equality"
   ]
  },
  {
   "cell_type": "code",
   "execution_count": 13,
   "metadata": {},
   "outputs": [
    {
     "name": "stdout",
     "output_type": "stream",
     "text": [
      "False\n",
      "False\n"
     ]
    }
   ],
   "source": [
    "student_1 = Student('Kamil', 'Akhuseyinoglu', 3216)\n",
    "student_2 = Student('Kamil', 'Akhuseyinoglu', 3216)\n",
    "\n",
    "# Are these students objects same? \n",
    "\n",
    "print(student_1 == student_2)\n",
    "print(student_1 is student_2)\n"
   ]
  },
  {
   "cell_type": "code",
   "execution_count": 18,
   "metadata": {},
   "outputs": [],
   "source": [
    "class Student(Person):\n",
    "    def __init__(self, first_name, last_name, student_id=0):\n",
    "        super().__init__(first_name, last_name)\n",
    "        self.__student_id = student_id\n",
    "\n",
    "    def get_student_id(self):\n",
    "        return self.__student_id\n",
    "    \n",
    "    def get_student_info(self):\n",
    "        return ' '.join([self._firstname, self._lastname, str(self.__student_id)])\n",
    "    \n",
    "    def __eq__(self, __value: object) -> bool:\n",
    "        if isinstance(__value, Student):\n",
    "            return __value.get_student_id() == self.get_student_id()\n",
    "        \n",
    "        return False"
   ]
  },
  {
   "cell_type": "code",
   "execution_count": 20,
   "metadata": {},
   "outputs": [
    {
     "name": "stdout",
     "output_type": "stream",
     "text": [
      "True\n",
      "False\n",
      "4573847312\n",
      "4573847120\n"
     ]
    }
   ],
   "source": [
    "student_1 = Student('Kamil', 'Akhuseyinoglu', 3216)\n",
    "student_2 = Student('Kamil', 'Akhuseyinoglu', 3216)\n",
    "\n",
    "# Are these students objects same? \n",
    "\n",
    "print(student_1 == student_2) # Yes, equal objects\n",
    "print(student_1 is student_2) # But not the same object representation, remember the ids\n",
    "print(id(student_1))\n",
    "print(id(student_2))\n"
   ]
  },
  {
   "attachments": {},
   "cell_type": "markdown",
   "metadata": {},
   "source": [
    "**Below we demonstrate that Python uses another build-in function (\\_\\_hash\\_\\_) for checking object equality in Sets**"
   ]
  },
  {
   "cell_type": "code",
   "execution_count": 24,
   "metadata": {},
   "outputs": [
    {
     "name": "stdout",
     "output_type": "stream",
     "text": [
      "3\n"
     ]
    }
   ],
   "source": [
    "# Let's create 3 students with same student ids\n",
    "class Student(Person):\n",
    "    def __init__(self, first_name, last_name, student_id=0):\n",
    "        super().__init__(first_name, last_name)\n",
    "        self.__student_id = student_id\n",
    "\n",
    "    def get_student_id(self):\n",
    "        return self.__student_id\n",
    "    \n",
    "    def get_student_info(self):\n",
    "        return ' '.join([self._firstname, self._lastname, str(self.__student_id)])\n",
    "    \n",
    "student_1 = Student('Kamil', 'Akhuseyinoglu', 3216)\n",
    "student_2 = Student('Kamil', 'Akhuseyinoglu', 3216)\n",
    "student_3 = Student('Kamil', 'Akhuseyinoglu', 3216)\n",
    "\n",
    "student_set = set([student_1, student_2, student_3])\n",
    "\n",
    "print(len(student_set))"
   ]
  },
  {
   "cell_type": "code",
   "execution_count": 34,
   "metadata": {},
   "outputs": [],
   "source": [
    "class Student(Person):\n",
    "    def __init__(self, first_name, last_name, student_id=0):\n",
    "        super().__init__(first_name, last_name)\n",
    "        self.__student_id = student_id\n",
    "\n",
    "    def get_student_id(self):\n",
    "        return self.__student_id\n",
    "    \n",
    "    def get_student_info(self):\n",
    "        return ' '.join([self._firstname, self._lastname, str(self.__student_id)])\n",
    "    \n",
    "    def __eq__(self, __value: object) -> bool:\n",
    "        if isinstance(__value, Student):\n",
    "            return __value.get_student_id() == self.get_student_id()\n",
    "        \n",
    "        return False\n",
    "    "
   ]
  },
  {
   "cell_type": "code",
   "execution_count": 35,
   "metadata": {},
   "outputs": [
    {
     "ename": "TypeError",
     "evalue": "unhashable type: 'Student'",
     "output_type": "error",
     "traceback": [
      "\u001b[0;31m---------------------------------------------------------------------------\u001b[0m",
      "\u001b[0;31mTypeError\u001b[0m                                 Traceback (most recent call last)",
      "\u001b[0;32m/var/folders/0j/_67zn4fn7jj55jslsbtwxh700000gn/T/ipykernel_44124/3421031849.py\u001b[0m in \u001b[0;36m<module>\u001b[0;34m\u001b[0m\n\u001b[1;32m      3\u001b[0m \u001b[0mstudent_3\u001b[0m \u001b[0;34m=\u001b[0m \u001b[0mStudent\u001b[0m\u001b[0;34m(\u001b[0m\u001b[0;34m'Kamil'\u001b[0m\u001b[0;34m,\u001b[0m \u001b[0;34m'Akhuseyinoglu'\u001b[0m\u001b[0;34m,\u001b[0m \u001b[0;36m3216\u001b[0m\u001b[0;34m)\u001b[0m\u001b[0;34m\u001b[0m\u001b[0;34m\u001b[0m\u001b[0m\n\u001b[1;32m      4\u001b[0m \u001b[0;34m\u001b[0m\u001b[0m\n\u001b[0;32m----> 5\u001b[0;31m \u001b[0mstudent_set\u001b[0m \u001b[0;34m=\u001b[0m \u001b[0mset\u001b[0m\u001b[0;34m(\u001b[0m\u001b[0;34m[\u001b[0m\u001b[0mstudent_1\u001b[0m\u001b[0;34m,\u001b[0m \u001b[0mstudent_2\u001b[0m\u001b[0;34m,\u001b[0m \u001b[0mstudent_3\u001b[0m\u001b[0;34m]\u001b[0m\u001b[0;34m)\u001b[0m\u001b[0;34m\u001b[0m\u001b[0;34m\u001b[0m\u001b[0m\n\u001b[0m\u001b[1;32m      6\u001b[0m \u001b[0;34m\u001b[0m\u001b[0m\n\u001b[1;32m      7\u001b[0m \u001b[0mprint\u001b[0m\u001b[0;34m(\u001b[0m\u001b[0mlen\u001b[0m\u001b[0;34m(\u001b[0m\u001b[0mstudent_set\u001b[0m\u001b[0;34m)\u001b[0m\u001b[0;34m)\u001b[0m \u001b[0;31m# Ooops what happened?\u001b[0m\u001b[0;34m\u001b[0m\u001b[0;34m\u001b[0m\u001b[0m\n",
      "\u001b[0;31mTypeError\u001b[0m: unhashable type: 'Student'"
     ]
    }
   ],
   "source": [
    "student_1 = Student('Kamil', 'Akhuseyinoglu', 3216)\n",
    "student_2 = Student('Kamil', 'Akhuseyinoglu', 3216)\n",
    "student_3 = Student('Kamil', 'Akhuseyinoglu', 3216)\n",
    "\n",
    "student_set = set([student_1, student_2, student_3])\n",
    "\n",
    "print(len(student_set)) # Ooops what happened?"
   ]
  },
  {
   "cell_type": "code",
   "execution_count": 36,
   "metadata": {},
   "outputs": [],
   "source": [
    "class Student(Person):\n",
    "    def __init__(self, first_name, last_name, student_id=0):\n",
    "        super().__init__(first_name, last_name)\n",
    "        self.__student_id = student_id\n",
    "\n",
    "    def get_student_id(self):\n",
    "        return self.__student_id\n",
    "    \n",
    "    def get_student_info(self):\n",
    "        return ' '.join([self._firstname, self._lastname, str(self.__student_id)])\n",
    "    \n",
    "    def __eq__(self, __value: object) -> bool:\n",
    "        if isinstance(__value, Student):\n",
    "            return __value.get_student_id() == self.get_student_id()\n",
    "        \n",
    "        return False\n",
    "    \n",
    "    def __hash__(self) -> int:\n",
    "        return hash(self.get_student_id())"
   ]
  },
  {
   "cell_type": "code",
   "execution_count": 37,
   "metadata": {},
   "outputs": [
    {
     "name": "stdout",
     "output_type": "stream",
     "text": [
      "1\n"
     ]
    }
   ],
   "source": [
    "student_1 = Student('Kamil', 'Akhuseyinoglu', 3216)\n",
    "student_2 = Student('Kamil', 'Akhuseyinoglu', 3216)\n",
    "student_3 = Student('Kamil', 'Akhuseyinoglu', 3216)\n",
    "\n",
    "student_set = set([student_1, student_2, student_3])\n",
    "\n",
    "print(len(student_set)) # Ooops what happened?"
   ]
  }
 ],
 "metadata": {
  "kernelspec": {
   "display_name": ".env",
   "language": "python",
   "name": "python3"
  },
  "language_info": {
   "codemirror_mode": {
    "name": "ipython",
    "version": 3
   },
   "file_extension": ".py",
   "mimetype": "text/x-python",
   "name": "python",
   "nbconvert_exporter": "python",
   "pygments_lexer": "ipython3",
   "version": "3.7.4"
  },
  "orig_nbformat": 4
 },
 "nbformat": 4,
 "nbformat_minor": 2
}
