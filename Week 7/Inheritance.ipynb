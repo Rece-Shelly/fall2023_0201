{
 "cells": [
  {
   "attachments": {},
   "cell_type": "markdown",
   "metadata": {},
   "source": [
    "**Inheritance**"
   ]
  },
  {
   "attachments": {},
   "cell_type": "markdown",
   "metadata": {},
   "source": [
    "Let's demonstrate below that the Person class has 'object' as its only base.  "
   ]
  },
  {
   "cell_type": "code",
   "execution_count": 9,
   "metadata": {},
   "outputs": [
    {
     "name": "stdout",
     "output_type": "stream",
     "text": [
      "(<class 'object'>,)\n",
      "test\n",
      "<function Person.__repr__ at 0x10fcdf5f0>\n"
     ]
    },
    {
     "ename": "TypeError",
     "evalue": "descriptor '__repr__' of 'object' object needs an argument",
     "output_type": "error",
     "traceback": [
      "\u001b[0;31m---------------------------------------------------------------------------\u001b[0m",
      "\u001b[0;31mTypeError\u001b[0m                                 Traceback (most recent call last)",
      "\u001b[0;32m/var/folders/0j/_67zn4fn7jj55jslsbtwxh700000gn/T/ipykernel_42574/1468108291.py\u001b[0m in \u001b[0;36m<module>\u001b[0;34m\u001b[0m\n\u001b[1;32m     19\u001b[0m \u001b[0mprint\u001b[0m\u001b[0;34m(\u001b[0m\u001b[0mperson\u001b[0m\u001b[0;34m.\u001b[0m\u001b[0m__repr__\u001b[0m\u001b[0;34m(\u001b[0m\u001b[0;34m)\u001b[0m\u001b[0;34m)\u001b[0m\u001b[0;34m\u001b[0m\u001b[0;34m\u001b[0m\u001b[0m\n\u001b[1;32m     20\u001b[0m \u001b[0mprint\u001b[0m\u001b[0;34m(\u001b[0m\u001b[0mPerson\u001b[0m\u001b[0;34m.\u001b[0m\u001b[0m__repr__\u001b[0m\u001b[0;34m)\u001b[0m\u001b[0;34m\u001b[0m\u001b[0;34m\u001b[0m\u001b[0m\n\u001b[0;32m---> 21\u001b[0;31m \u001b[0mprint\u001b[0m\u001b[0;34m(\u001b[0m\u001b[0mobject\u001b[0m\u001b[0;34m.\u001b[0m\u001b[0m__repr__\u001b[0m\u001b[0;34m(\u001b[0m\u001b[0;34m)\u001b[0m\u001b[0;34m)\u001b[0m\u001b[0;34m\u001b[0m\u001b[0;34m\u001b[0m\u001b[0m\n\u001b[0m",
      "\u001b[0;31mTypeError\u001b[0m: descriptor '__repr__' of 'object' object needs an argument"
     ]
    }
   ],
   "source": [
    "class Person:\n",
    "    __age = 0\n",
    "\n",
    "    def __init__(self, age):\n",
    "        self.set_age(age)\n",
    "\n",
    "    def set_age(self, new_age:int):\n",
    "        if new_age >= 0 and new_age < 150:\n",
    "            self.__age = new_age\n",
    "\n",
    "    def get_age(self) -> int:\n",
    "        return self.__age\n",
    "    \n",
    "    def __repr__(self):\n",
    "        return 'test'\n",
    "\n",
    "person = Person(10)\n",
    "print(Person.__bases__)\n",
    "print(person.__repr__())\n",
    "print(Person.__repr__)\n",
    "print(object.__repr__)"
   ]
  },
  {
   "cell_type": "code",
   "execution_count": 69,
   "metadata": {},
   "outputs": [
    {
     "name": "stdout",
     "output_type": "stream",
     "text": [
      "John Doe\n"
     ]
    }
   ],
   "source": [
    "class Person:\n",
    "    def __init__(self, fname, lname):\n",
    "        self.__firstname = fname\n",
    "        self.__lastname = lname\n",
    "\n",
    "    def printname(self):\n",
    "\t    print(self.__firstname, self.__lastname)\n",
    "\n",
    "# Use the Person class to create an object,\n",
    "# and then execute the printname method:\n",
    "\n",
    "x = Person(\"John\", \"Doe\")\n",
    "x.printname()\n"
   ]
  },
  {
   "cell_type": "code",
   "execution_count": 35,
   "metadata": {},
   "outputs": [],
   "source": [
    "class Student(Person):\n",
    "    pass\n"
   ]
  },
  {
   "cell_type": "code",
   "execution_count": 36,
   "metadata": {},
   "outputs": [
    {
     "name": "stdout",
     "output_type": "stream",
     "text": [
      "Kamil Akhuseyinoglu\n",
      "None\n",
      "Kamil Akhuseyinoglu\n",
      "None\n"
     ]
    }
   ],
   "source": [
    "student_1 = Student(\"Kamil\", \"Akhuseyinoglu\")\n",
    "print(student_1.printname())\n",
    "\n",
    "person_1 = Person(\"Kamil\", \"Akhuseyinoglu\")\n",
    "print(person_1.printname())\n",
    "\n",
    "# Why we see None printed below? Any guesses"
   ]
  },
  {
   "cell_type": "code",
   "execution_count": 55,
   "metadata": {},
   "outputs": [],
   "source": [
    "class Student(Person):\n",
    "  def __init__(self, fname, lname):\n",
    "    Person.__init__(self, fname, lname)\n"
   ]
  },
  {
   "cell_type": "code",
   "execution_count": 61,
   "metadata": {},
   "outputs": [
    {
     "ename": "AttributeError",
     "evalue": "'Student' object has no attribute '_Person__firstname'",
     "output_type": "error",
     "traceback": [
      "\u001b[0;31m---------------------------------------------------------------------------\u001b[0m",
      "\u001b[0;31mAttributeError\u001b[0m                            Traceback (most recent call last)",
      "\u001b[0;32m/var/folders/0j/_67zn4fn7jj55jslsbtwxh700000gn/T/ipykernel_42574/2077542875.py\u001b[0m in \u001b[0;36m<module>\u001b[0;34m\u001b[0m\n\u001b[1;32m      7\u001b[0m \u001b[0;34m\u001b[0m\u001b[0m\n\u001b[1;32m      8\u001b[0m \u001b[0mstudent_1\u001b[0m \u001b[0;34m=\u001b[0m \u001b[0mStudent\u001b[0m\u001b[0;34m(\u001b[0m\u001b[0;34m\"Kamil\"\u001b[0m\u001b[0;34m,\u001b[0m \u001b[0;34m\"Akhuseyinoglu\"\u001b[0m\u001b[0;34m)\u001b[0m\u001b[0;34m\u001b[0m\u001b[0;34m\u001b[0m\u001b[0m\n\u001b[0;32m----> 9\u001b[0;31m \u001b[0mstudent_1\u001b[0m\u001b[0;34m.\u001b[0m\u001b[0mprintname\u001b[0m\u001b[0;34m(\u001b[0m\u001b[0;34m)\u001b[0m \u001b[0;31m# What is happening?\u001b[0m\u001b[0;34m\u001b[0m\u001b[0;34m\u001b[0m\u001b[0m\n\u001b[0m",
      "\u001b[0;32m/var/folders/0j/_67zn4fn7jj55jslsbtwxh700000gn/T/ipykernel_42574/1413369231.py\u001b[0m in \u001b[0;36mprintname\u001b[0;34m(self)\u001b[0m\n\u001b[1;32m      5\u001b[0m \u001b[0;34m\u001b[0m\u001b[0m\n\u001b[1;32m      6\u001b[0m     \u001b[0;32mdef\u001b[0m \u001b[0mprintname\u001b[0m\u001b[0;34m(\u001b[0m\u001b[0mself\u001b[0m\u001b[0;34m)\u001b[0m\u001b[0;34m:\u001b[0m\u001b[0;34m\u001b[0m\u001b[0;34m\u001b[0m\u001b[0m\n\u001b[0;32m----> 7\u001b[0;31m             \u001b[0mprint\u001b[0m\u001b[0;34m(\u001b[0m\u001b[0mself\u001b[0m\u001b[0;34m.\u001b[0m\u001b[0m__firstname\u001b[0m\u001b[0;34m,\u001b[0m \u001b[0mself\u001b[0m\u001b[0;34m.\u001b[0m\u001b[0m__lastname\u001b[0m\u001b[0;34m)\u001b[0m\u001b[0;34m\u001b[0m\u001b[0;34m\u001b[0m\u001b[0m\n\u001b[0m\u001b[1;32m      8\u001b[0m \u001b[0;34m\u001b[0m\u001b[0m\n\u001b[1;32m      9\u001b[0m \u001b[0;31m# Use the Person class to create an object,\u001b[0m\u001b[0;34m\u001b[0m\u001b[0;34m\u001b[0m\u001b[0;34m\u001b[0m\u001b[0m\n",
      "\u001b[0;31mAttributeError\u001b[0m: 'Student' object has no attribute '_Person__firstname'"
     ]
    }
   ],
   "source": [
    "class Student(Person):\n",
    "    def __init__(self, first_name, last_name, student_id=0):\n",
    "        self.__student_id = student_id\n",
    "\n",
    "    def get_student_id(self):\n",
    "        return self.__student_id\n",
    "\n",
    "student_1 = Student(\"Kamil\", \"Akhuseyinoglu\")\n",
    "student_1.printname() # What is happening?"
   ]
  },
  {
   "cell_type": "code",
   "execution_count": 59,
   "metadata": {},
   "outputs": [
    {
     "name": "stdout",
     "output_type": "stream",
     "text": [
      "<class '__main__.Student'>\n",
      "(<class '__main__.Person'>,)\n"
     ]
    }
   ],
   "source": [
    "print(type(student_1))\n",
    "print(Student.__bases__) "
   ]
  },
  {
   "cell_type": "code",
   "execution_count": 63,
   "metadata": {},
   "outputs": [
    {
     "name": "stdout",
     "output_type": "stream",
     "text": [
      "Kamil Akhuseyinoglu\n",
      "<class '__main__.Student'>\n",
      "(<class '__main__.Person'>,)\n"
     ]
    }
   ],
   "source": [
    "class Student(Person):\n",
    "    def __init__(self, first_name, last_name, student_id=0):\n",
    "        super().__init__(first_name, last_name)\n",
    "        self.__student_id = student_id\n",
    "\n",
    "    def get_student_id(self):\n",
    "        return self.__student_id\n",
    "\n",
    "student_1 = Student(\"Kamil\", \"Akhuseyinoglu\", 123)\n",
    "student_1.printname() \n",
    "\n",
    "print(type(student_1))\n",
    "print(Student.__bases__) "
   ]
  },
  {
   "cell_type": "code",
   "execution_count": 64,
   "metadata": {},
   "outputs": [
    {
     "name": "stdout",
     "output_type": "stream",
     "text": [
      "Kamil Akhuseyinoglu\n",
      "123\n"
     ]
    }
   ],
   "source": [
    "student_1 = Student(\"Kamil\", \"Akhuseyinoglu\", 123)\n",
    "student_1.printname() \n",
    "print(student_1.get_student_id())"
   ]
  },
  {
   "cell_type": "code",
   "execution_count": 72,
   "metadata": {},
   "outputs": [
    {
     "ename": "AttributeError",
     "evalue": "'Student' object has no attribute '_Student__firstname'",
     "output_type": "error",
     "traceback": [
      "\u001b[0;31m---------------------------------------------------------------------------\u001b[0m",
      "\u001b[0;31mAttributeError\u001b[0m                            Traceback (most recent call last)",
      "\u001b[0;32m/var/folders/0j/_67zn4fn7jj55jslsbtwxh700000gn/T/ipykernel_42574/1333859351.py\u001b[0m in \u001b[0;36m<module>\u001b[0;34m\u001b[0m\n\u001b[1;32m     14\u001b[0m \u001b[0;34m\u001b[0m\u001b[0m\n\u001b[1;32m     15\u001b[0m \u001b[0mstudent_1\u001b[0m \u001b[0;34m=\u001b[0m \u001b[0mStudent\u001b[0m\u001b[0;34m(\u001b[0m\u001b[0;34m\"Kamil\"\u001b[0m\u001b[0;34m,\u001b[0m \u001b[0;34m\"Akhuseyinoglu\"\u001b[0m\u001b[0;34m,\u001b[0m \u001b[0;36m123\u001b[0m\u001b[0;34m)\u001b[0m\u001b[0;34m\u001b[0m\u001b[0;34m\u001b[0m\u001b[0m\n\u001b[0;32m---> 16\u001b[0;31m \u001b[0mstudent_1\u001b[0m\u001b[0;34m.\u001b[0m\u001b[0mprint_student_info\u001b[0m\u001b[0;34m(\u001b[0m\u001b[0;34m)\u001b[0m\u001b[0;34m\u001b[0m\u001b[0;34m\u001b[0m\u001b[0m\n\u001b[0m",
      "\u001b[0;32m/var/folders/0j/_67zn4fn7jj55jslsbtwxh700000gn/T/ipykernel_42574/1333859351.py\u001b[0m in \u001b[0;36mprint_student_info\u001b[0;34m(self)\u001b[0m\n\u001b[1;32m     10\u001b[0m \u001b[0;34m\u001b[0m\u001b[0m\n\u001b[1;32m     11\u001b[0m     \u001b[0;32mdef\u001b[0m \u001b[0mprint_student_info\u001b[0m\u001b[0;34m(\u001b[0m\u001b[0mself\u001b[0m\u001b[0;34m)\u001b[0m\u001b[0;34m:\u001b[0m\u001b[0;34m\u001b[0m\u001b[0;34m\u001b[0m\u001b[0m\n\u001b[0;32m---> 12\u001b[0;31m         \u001b[0mprint\u001b[0m\u001b[0;34m(\u001b[0m\u001b[0mself\u001b[0m\u001b[0;34m.\u001b[0m\u001b[0m__firstname\u001b[0m\u001b[0;34m,\u001b[0m \u001b[0mself\u001b[0m\u001b[0;34m.\u001b[0m\u001b[0m__lastname\u001b[0m\u001b[0;34m,\u001b[0m \u001b[0mself\u001b[0m\u001b[0;34m.\u001b[0m\u001b[0m__student_id\u001b[0m\u001b[0;34m)\u001b[0m\u001b[0;34m\u001b[0m\u001b[0;34m\u001b[0m\u001b[0m\n\u001b[0m\u001b[1;32m     13\u001b[0m \u001b[0;34m\u001b[0m\u001b[0m\n\u001b[1;32m     14\u001b[0m \u001b[0;34m\u001b[0m\u001b[0m\n",
      "\u001b[0;31mAttributeError\u001b[0m: 'Student' object has no attribute '_Student__firstname'"
     ]
    }
   ],
   "source": [
    "# Can we access Person.__firstname inside the Studnet class?\n",
    "\n",
    "class Student(Person):\n",
    "    def __init__(self, first_name, last_name, student_id=0):\n",
    "        super().__init__(first_name, last_name)\n",
    "        self.__student_id = student_id\n",
    "\n",
    "    def get_student_id(self):\n",
    "        return self.__student_id\n",
    "    \n",
    "    def print_student_info(self):\n",
    "        print(self.__firstname, self.__lastname, self.__student_id)\n",
    "\n",
    "\n",
    "student_1 = Student(\"Kamil\", \"Akhuseyinoglu\", 123)\n",
    "student_1.print_student_info()"
   ]
  },
  {
   "cell_type": "code",
   "execution_count": 68,
   "metadata": {},
   "outputs": [
    {
     "name": "stdout",
     "output_type": "stream",
     "text": [
      "Kamil Akhuseyinoglu 123\n"
     ]
    }
   ],
   "source": [
    "# If we want subclasses to access self properties, \n",
    "# we need to declare protected properties\n",
    "\n",
    "class Person:\n",
    "    def __init__(self, fname, lname):\n",
    "        self._firstname = fname\n",
    "        self._lastname = lname\n",
    "\n",
    "    def printname(self):\n",
    "\t    print(self._firstname, self._lastname)\n",
    "\n",
    "class Student(Person):\n",
    "    def __init__(self, first_name, last_name, student_id=0):\n",
    "        super().__init__(first_name, last_name)\n",
    "        self.__student_id = student_id\n",
    "\n",
    "    def get_student_id(self):\n",
    "        return self.__student_id\n",
    "    \n",
    "    def print_student_info(self):\n",
    "        print(self._firstname, self._lastname, self.__student_id)\n",
    "\n",
    "\n",
    "student_1 = Student(\"Kamil\", \"Akhuseyinoglu\", 123)\n",
    "student_1.print_student_info()"
   ]
  }
 ],
 "metadata": {
  "kernelspec": {
   "display_name": ".env",
   "language": "python",
   "name": "python3"
  },
  "language_info": {
   "codemirror_mode": {
    "name": "ipython",
    "version": 3
   },
   "file_extension": ".py",
   "mimetype": "text/x-python",
   "name": "python",
   "nbconvert_exporter": "python",
   "pygments_lexer": "ipython3",
   "version": "3.7.4"
  },
  "orig_nbformat": 4
 },
 "nbformat": 4,
 "nbformat_minor": 2
}
