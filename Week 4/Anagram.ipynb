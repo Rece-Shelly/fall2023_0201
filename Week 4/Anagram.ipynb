{
 "cells": [
  {
   "cell_type": "code",
   "execution_count": 1,
   "metadata": {},
   "outputs": [],
   "source": [
    "w1 = 'elvis'\n",
    "w2 = 'lives'\n",
    "\n"
   ]
  },
  {
   "attachments": {},
   "cell_type": "markdown",
   "metadata": {},
   "source": [
    "### Anagrams\n",
    "1. Get user input\n",
    "2. Put the letters from the input in alphabetical order\n",
    "3. Open words.txt\n",
    "4. Read words.txt\n",
    "5. Iterate through words from words.txt\n",
    "6. For each word in words.txt, put the word's letters in alphabetical order\n",
    "7. Compare ordered input with each ordered word\n",
    "8. If match, then anagram"
   ]
  },
  {
   "cell_type": "code",
   "execution_count": 7,
   "metadata": {},
   "outputs": [
    {
     "name": "stdout",
     "output_type": "stream",
     "text": [
      "Original user input: dictionary\n"
     ]
    }
   ],
   "source": [
    "#1: Get user input\n",
    "user_input = input(\"Please enter a word \")\n",
    "print(\"Original user input: \" + user_input)"
   ]
  },
  {
   "cell_type": "code",
   "execution_count": 8,
   "metadata": {},
   "outputs": [
    {
     "name": "stdout",
     "output_type": "stream",
     "text": [
      "['a', 'c', 'd', 'i', 'i', 'n', 'o', 'r', 't', 'y']\n"
     ]
    }
   ],
   "source": [
    "#2. Put the letters from the input in alphabetical order\n",
    "sorted_user_input = sorted(user_input)\n",
    "print(sorted_user_input)"
   ]
  },
  {
   "cell_type": "code",
   "execution_count": 9,
   "metadata": {},
   "outputs": [
    {
     "name": "stdout",
     "output_type": "stream",
     "text": [
      "<_io.TextIOWrapper name='words.txt' mode='r' encoding='UTF-8'>\n"
     ]
    }
   ],
   "source": [
    "#3. Open words.txt\n",
    "f = open(\"words.txt\")\n",
    "print(f)"
   ]
  },
  {
   "cell_type": "code",
   "execution_count": 10,
   "metadata": {},
   "outputs": [
    {
     "name": "stdout",
     "output_type": "stream",
     "text": [
      "['a\\n', 'aa\\n', 'aaa\\n', 'aah\\n', 'aahed\\n', 'aahing\\n', 'aahs\\n', 'aal\\n', 'aalii\\n', 'aaliis\\n']\n"
     ]
    }
   ],
   "source": [
    "#4. Read the data from words.txt\n",
    "words = f.readlines()\n",
    "print(words[0:10])"
   ]
  },
  {
   "cell_type": "code",
   "execution_count": 11,
   "metadata": {},
   "outputs": [
    {
     "name": "stdout",
     "output_type": "stream",
     "text": [
      "dictionary\n",
      "indicatory\n"
     ]
    }
   ],
   "source": [
    "#5. Iterate through list\n",
    "for item in words:\n",
    "    item = item.replace('\\n','')\n",
    "    item_sorted = sorted(item)\n",
    "    # Compare ordered input with each ordered word\n",
    "    if item_sorted == sorted_user_input:\n",
    "        print(item)"
   ]
  }
 ],
 "metadata": {
  "kernelspec": {
   "display_name": "Python 3",
   "language": "python",
   "name": "python3"
  },
  "language_info": {
   "codemirror_mode": {
    "name": "ipython",
    "version": 3
   },
   "file_extension": ".py",
   "mimetype": "text/x-python",
   "name": "python",
   "nbconvert_exporter": "python",
   "pygments_lexer": "ipython3",
   "version": "3.7.4"
  }
 },
 "nbformat": 4,
 "nbformat_minor": 2
}
