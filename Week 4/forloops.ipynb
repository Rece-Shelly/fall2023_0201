{
 "cells": [
  {
   "attachments": {},
   "cell_type": "markdown",
   "metadata": {},
   "source": [
    "**For Loops**  \n",
    "Here we will see bunch of for loop examples.  "
   ]
  },
  {
   "cell_type": "code",
   "execution_count": 3,
   "metadata": {},
   "outputs": [
    {
     "name": "stdout",
     "output_type": "stream",
     "text": [
      "0\n",
      "1\n",
      "2\n",
      "3\n",
      "4\n"
     ]
    }
   ],
   "source": [
    "for num in [1, 2, 3, 4, 5]:\n",
    "    print(num)"
   ]
  },
  {
   "cell_type": "code",
   "execution_count": 2,
   "metadata": {},
   "outputs": [
    {
     "name": "stdout",
     "output_type": "stream",
     "text": [
      "0\n",
      "1\n",
      "2\n",
      "3\n",
      "4\n"
     ]
    }
   ],
   "source": [
    "# range(5) means I want 5 iterations. range(5) creates a list of [0, 1, 2, 3, 4]\n",
    "for num in range(5):\n",
    "    print(num)"
   ]
  },
  {
   "cell_type": "code",
   "execution_count": 4,
   "metadata": {},
   "outputs": [
    {
     "name": "stdout",
     "output_type": "stream",
     "text": [
      "1\n",
      "2\n",
      "3\n",
      "4\n"
     ]
    }
   ],
   "source": [
    "# Using range function with 2 arguments\n",
    "for num in range(1, 5):\n",
    "    print(num)"
   ]
  },
  {
   "cell_type": "code",
   "execution_count": 5,
   "metadata": {},
   "outputs": [
    {
     "name": "stdout",
     "output_type": "stream",
     "text": [
      "1\n",
      "3\n",
      "5\n",
      "7\n",
      "9\n"
     ]
    }
   ],
   "source": [
    "# Using range function with 3 arguments\n",
    "for num in range(1, 10, 2):\n",
    "    print(num)"
   ]
  },
  {
   "attachments": {},
   "cell_type": "markdown",
   "metadata": {},
   "source": [
    "Let's calculate the squares of numbers from 1 to 10\n"
   ]
  },
  {
   "cell_type": "code",
   "execution_count": 6,
   "metadata": {},
   "outputs": [
    {
     "name": "stdout",
     "output_type": "stream",
     "text": [
      "Number\tSquare\n",
      "---------------\n",
      "1 \t 1\n",
      "2 \t 4\n",
      "3 \t 9\n",
      "4 \t 16\n",
      "5 \t 25\n",
      "6 \t 36\n",
      "7 \t 49\n",
      "8 \t 64\n",
      "9 \t 81\n",
      "10 \t 100\n"
     ]
    }
   ],
   "source": [
    "# Print the table headings\n",
    "print('Number\\tSquare')\n",
    "print('---------------')\n",
    "\n",
    "# Print the numbers 1 through 10 and their squares\n",
    "for number in range(1, 11):\n",
    "    square = number ** 2\n",
    "    print(number, '\\t', square)\n",
    "\n"
   ]
  },
  {
   "attachments": {},
   "cell_type": "markdown",
   "metadata": {},
   "source": [
    "**Users can control the loop iterations** \n",
    "\n",
    "This time let the program asks the user to enter the ending limit."
   ]
  },
  {
   "cell_type": "code",
   "execution_count": 8,
   "metadata": {},
   "outputs": [
    {
     "name": "stdout",
     "output_type": "stream",
     "text": [
      "Number\tSquare\n",
      "---------------\n",
      "1 \t 1\n",
      "2 \t 4\n",
      "3 \t 9\n",
      "4 \t 16\n",
      "5 \t 25\n"
     ]
    }
   ],
   "source": [
    "end_limit = int(input('Enter the end limit: '))\n",
    "\n",
    "# Print the table headings\n",
    "print('Number\\tSquare')\n",
    "print('---------------')\n",
    "\n",
    "# Print the numbers 1 through end_limit and their squares\n",
    "for number in range(1, end_limit + 1):\n",
    "    square = number ** 2\n",
    "    print(number, '\\t', square)"
   ]
  },
  {
   "attachments": {},
   "cell_type": "markdown",
   "metadata": {},
   "source": [
    "**How to iterate in reverse order?**  \n",
    "The range function can be used to generate a sequence with numbers in descending order.  \n",
    "Make sure starting number is larger than end limit, and step value is  negative.  \n",
    "Example: range (10, 0, -1)  \n",
    "  \n",
    "Let's print out the squares in reverse order.  \n",
    "\n"
   ]
  },
  {
   "cell_type": "code",
   "execution_count": 11,
   "metadata": {},
   "outputs": [
    {
     "name": "stdout",
     "output_type": "stream",
     "text": [
      "Number\tSquare\n",
      "---------------\n",
      "5 \t 25\n",
      "4 \t 16\n",
      "3 \t 9\n",
      "2 \t 4\n",
      "1 \t 1\n"
     ]
    }
   ],
   "source": [
    "end_limit = int(input('Enter the end limit: '))\n",
    "\n",
    "# Print the table headings\n",
    "print('Number\\tSquare')\n",
    "print('---------------')\n",
    "\n",
    "# Print the numbers from end_limit to 1 and their squares\n",
    "for number in range(end_limit, 0, -1):\n",
    "    square = number ** 2\n",
    "    print(number, '\\t', square)"
   ]
  },
  {
   "attachments": {},
   "cell_type": "markdown",
   "metadata": {},
   "source": [
    "**Nested Loops**  \n",
    "Nested loop: loop that is contained inside another loop  \n"
   ]
  },
  {
   "cell_type": "code",
   "execution_count": 24,
   "metadata": {},
   "outputs": [
    {
     "name": "stdout",
     "output_type": "stream",
     "text": [
      "30\n"
     ]
    }
   ],
   "source": [
    "# This program prints the number of iterations of a nested loop. \n",
    "execution_count = 0\n",
    "\n",
    "for num1 in range(3):\n",
    "    for num2 in range(3):\n",
    "        execution_count += 1\n",
    "\n",
    "print(execution_count) "
   ]
  },
  {
   "cell_type": "code",
   "execution_count": null,
   "metadata": {},
   "outputs": [],
   "source": [
    "# This program prints the number of iterations of a nested loop. \n",
    "for num1 in range(3):\n",
    "    for num2 in range(5):\n",
    "        execution_count += 1\n",
    "\n",
    "print(execution_count)"
   ]
  },
  {
   "cell_type": "code",
   "execution_count": null,
   "metadata": {},
   "outputs": [],
   "source": [
    "# Exercise Running Sum\n",
    "\n",
    "# Define a running sum variable\n",
    "# Write a for loop that iterates 5 times (use range function)\n",
    "#   Inside its body, ask user input\n",
    "#   Add it to the running sum variable\n",
    "# print the value to the console"
   ]
  },
  {
   "cell_type": "code",
   "execution_count": 21,
   "metadata": {},
   "outputs": [
    {
     "name": "stdout",
     "output_type": "stream",
     "text": [
      "0\n",
      "1\n",
      "2\n",
      "3\n",
      "4\n",
      "15\n",
      "i 4\n"
     ]
    }
   ],
   "source": [
    "sum = 0\n",
    "\n",
    "for i in range(5):\n",
    "    x = input(\"Enter a number: \")\n",
    "    sum = sum + int(x)\n",
    "    print(i)\n",
    "\n",
    "print(sum)\n",
    "print('i',i)"
   ]
  }
 ],
 "metadata": {
  "kernelspec": {
   "display_name": ".env",
   "language": "python",
   "name": "python3"
  },
  "language_info": {
   "codemirror_mode": {
    "name": "ipython",
    "version": 3
   },
   "file_extension": ".py",
   "mimetype": "text/x-python",
   "name": "python",
   "nbconvert_exporter": "python",
   "pygments_lexer": "ipython3",
   "version": "3.7.4"
  },
  "orig_nbformat": 4
 },
 "nbformat": 4,
 "nbformat_minor": 2
}
