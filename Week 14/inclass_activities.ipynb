{
 "cells": [
  {
   "cell_type": "code",
   "execution_count": 26,
   "metadata": {},
   "outputs": [
    {
     "name": "stdout",
     "output_type": "stream",
     "text": [
      "2\n",
      "4\n",
      "6\n",
      "8\n"
     ]
    }
   ],
   "source": [
    "# Return double of n \n",
    "def double(n): \n",
    "    return n*2 \n",
    "    \n",
    "# We double all numbers using map() \n",
    "numbers = (1, 2, 3, 4) \n",
    "results = map(double, numbers) \n",
    "\n",
    "# For Printing value\n",
    "for result in results:\n",
    "    print(result)"
   ]
  },
  {
   "cell_type": "code",
   "execution_count": 27,
   "metadata": {},
   "outputs": [
    {
     "name": "stdout",
     "output_type": "stream",
     "text": [
      "[-1, -2, -3, -4, -5]\n",
      "[]\n"
     ]
    }
   ],
   "source": [
    "numbers = [1,2,3,4,5]\n",
    "\n",
    "neg_numbers = map(lambda x: -x, numbers)\n",
    "print(list(neg_numbers)) #Prints [-1, -2, -3, -4, -5]\n",
    "\n",
    "\n",
    "print(list(neg_numbers)) #What happens this time? Where are the negative numbers?\n"
   ]
  },
  {
   "cell_type": "markdown",
   "metadata": {},
   "source": [
    "Write a program that defines a list of numbers.  \n",
    "Use map() to create a new list that squares each element of the original list passing  \n",
    "A regular function  \n",
    "A lambda function.  \n",
    "Use filter() to create another list that contains only the even numbers from the original list passing:  \n",
    "A regular function.  \n",
    "A lambda function.  \n"
   ]
  },
  {
   "cell_type": "code",
   "execution_count": 25,
   "metadata": {},
   "outputs": [
    {
     "name": "stdout",
     "output_type": "stream",
     "text": [
      "[4, 9, 4, 16, 25, 9, 1, 25, 36]\n",
      "[4, 9, 4, 16, 25, 9, 1, 25, 36]\n",
      "[2, 2, 4, 6]\n",
      "[2, 2, 4, 6]\n",
      "<function <lambda> at 0x114a5c050>\n",
      "<function is_even at 0x114a2cc20>\n"
     ]
    }
   ],
   "source": [
    "numbers = [2,3,2,4,5,3,1,5,6]\n",
    "\n",
    "def square(n):\n",
    "    return n*n\n",
    "\n",
    "print(list(map(square,numbers)))\n",
    "\n",
    "print(list(map(lambda n: n*n,numbers)))\n",
    "\n",
    "def is_even(n):\n",
    "    return n % 2 == 0\n",
    "\n",
    "print(list(filter(is_even,numbers)))\n",
    "\n",
    "lambda_even = lambda n: n % 2 == 0\n",
    "print(list(filter(lambda_even, numbers)))\n",
    "\n",
    "print(lambda_even)\n",
    "print(is_even)"
   ]
  }
 ],
 "metadata": {
  "kernelspec": {
   "display_name": ".env",
   "language": "python",
   "name": "python3"
  },
  "language_info": {
   "codemirror_mode": {
    "name": "ipython",
    "version": 3
   },
   "file_extension": ".py",
   "mimetype": "text/x-python",
   "name": "python",
   "nbconvert_exporter": "python",
   "pygments_lexer": "ipython3",
   "version": "3.7.4"
  }
 },
 "nbformat": 4,
 "nbformat_minor": 2
}
