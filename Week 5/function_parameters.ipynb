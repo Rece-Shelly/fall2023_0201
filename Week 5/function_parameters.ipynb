{
 "cells": [
  {
   "attachments": {},
   "cell_type": "markdown",
   "metadata": {},
   "source": [
    "**Function Parameters**  "
   ]
  },
  {
   "attachments": {},
   "cell_type": "markdown",
   "metadata": {},
   "source": [
    "*Ordered/Positional/Required Parameters*"
   ]
  },
  {
   "cell_type": "code",
   "execution_count": 3,
   "metadata": {},
   "outputs": [
    {
     "name": "stdout",
     "output_type": "stream",
     "text": [
      "11\n",
      "11\n"
     ]
    }
   ],
   "source": [
    "# Define a function that adds 2 values\n",
    "def add_numbers(num1, num2):\n",
    "    add = num1 + num2\n",
    "\n",
    "    return add\n",
    "\n",
    "# Let's call it and assign to a variable\n",
    "result = add_numbers(5, 6)\n",
    "print(result)\n",
    "\n",
    "# Let's directly call it inside print function\n",
    "print(add_numbers(5, 6))"
   ]
  },
  {
   "cell_type": "code",
   "execution_count": 7,
   "metadata": {},
   "outputs": [
    {
     "name": "stdout",
     "output_type": "stream",
     "text": [
      "Here are the parameters: 5 6\n",
      "5 6 Wrong order\n"
     ]
    },
    {
     "ename": "TypeError",
     "evalue": "print_numbers() missing 1 required positional argument: 'num2'",
     "output_type": "error",
     "traceback": [
      "\u001b[0;31m---------------------------------------------------------------------------\u001b[0m",
      "\u001b[0;31mTypeError\u001b[0m                                 Traceback (most recent call last)",
      "\u001b[0;32m/var/folders/0j/_67zn4fn7jj55jslsbtwxh700000gn/T/ipykernel_11880/1474873588.py\u001b[0m in \u001b[0;36m<module>\u001b[0;34m\u001b[0m\n\u001b[1;32m      7\u001b[0m \u001b[0mprint_numbers\u001b[0m\u001b[0;34m(\u001b[0m\u001b[0;36m5\u001b[0m\u001b[0;34m,\u001b[0m \u001b[0;36m6\u001b[0m\u001b[0;34m,\u001b[0m \u001b[0;34m'Wrong order'\u001b[0m\u001b[0;34m)\u001b[0m\u001b[0;34m\u001b[0m\u001b[0;34m\u001b[0m\u001b[0m\n\u001b[1;32m      8\u001b[0m \u001b[0;34m\u001b[0m\u001b[0m\n\u001b[0;32m----> 9\u001b[0;31m \u001b[0mprint_numbers\u001b[0m\u001b[0;34m(\u001b[0m\u001b[0;34m'Few arguments'\u001b[0m\u001b[0;34m,\u001b[0m \u001b[0;36m4\u001b[0m\u001b[0;34m)\u001b[0m\u001b[0;34m\u001b[0m\u001b[0;34m\u001b[0m\u001b[0m\n\u001b[0m",
      "\u001b[0;31mTypeError\u001b[0m: print_numbers() missing 1 required positional argument: 'num2'"
     ]
    }
   ],
   "source": [
    "# Print numbers\n",
    "def print_numbers(text, num1, num2):\n",
    "    print(text,num1,num2)\n",
    "\n",
    "print_numbers('Here are the parameters:', 5, 6)\n",
    "\n",
    "print_numbers(5, 6, 'Wrong order')\n",
    "\n",
    "print_numbers('Few arguments', 4)"
   ]
  },
  {
   "attachments": {},
   "cell_type": "markdown",
   "metadata": {},
   "source": [
    "*Named/Keyword Parameters*"
   ]
  },
  {
   "cell_type": "code",
   "execution_count": 14,
   "metadata": {},
   "outputs": [
    {
     "name": "stdout",
     "output_type": "stream",
     "text": [
      "Here are the parameters: 5 6\n",
      "Here are the parameters: 5 6\n"
     ]
    }
   ],
   "source": [
    "# We can call the previous function by specifying them in the form <name>=<value>\n",
    "print_numbers(text='Here are the parameters:', num1=5, num2=6)\n",
    "\n",
    "# We can change the order of arguments\n",
    "print_numbers(num2=6, num1=5, text='Here are the parameters:')"
   ]
  },
  {
   "cell_type": "code",
   "execution_count": 15,
   "metadata": {},
   "outputs": [
    {
     "ename": "TypeError",
     "evalue": "print_numbers() missing 1 required positional argument: 'num2'",
     "output_type": "error",
     "traceback": [
      "\u001b[0;31m---------------------------------------------------------------------------\u001b[0m",
      "\u001b[0;31mTypeError\u001b[0m                                 Traceback (most recent call last)",
      "\u001b[0;32m/var/folders/0j/_67zn4fn7jj55jslsbtwxh700000gn/T/ipykernel_11880/2453751599.py\u001b[0m in \u001b[0;36m<module>\u001b[0;34m\u001b[0m\n\u001b[1;32m      1\u001b[0m \u001b[0;31m# But cannot omit an argument\u001b[0m\u001b[0;34m\u001b[0m\u001b[0;34m\u001b[0m\u001b[0;34m\u001b[0m\u001b[0m\n\u001b[0;32m----> 2\u001b[0;31m \u001b[0mprint_numbers\u001b[0m\u001b[0;34m(\u001b[0m\u001b[0mnum1\u001b[0m\u001b[0;34m=\u001b[0m\u001b[0;36m5\u001b[0m\u001b[0;34m,\u001b[0m \u001b[0mtext\u001b[0m\u001b[0;34m=\u001b[0m\u001b[0;34m'Here are the parameters:'\u001b[0m\u001b[0;34m)\u001b[0m\u001b[0;34m\u001b[0m\u001b[0;34m\u001b[0m\u001b[0m\n\u001b[0m",
      "\u001b[0;31mTypeError\u001b[0m: print_numbers() missing 1 required positional argument: 'num2'"
     ]
    }
   ],
   "source": [
    "# But cannot omit an argument\n",
    "print_numbers(num1=5, text='Here are the parameters:')"
   ]
  },
  {
   "cell_type": "code",
   "execution_count": 17,
   "metadata": {},
   "outputs": [
    {
     "ename": "SyntaxError",
     "evalue": "positional argument follows keyword argument (2941862521.py, line 2)",
     "output_type": "error",
     "traceback": [
      "\u001b[0;36m  File \u001b[0;32m\"/var/folders/0j/_67zn4fn7jj55jslsbtwxh700000gn/T/ipykernel_11880/2941862521.py\"\u001b[0;36m, line \u001b[0;32m2\u001b[0m\n\u001b[0;31m    print_numbers(text='Here are the parameters:', 5, 6)\u001b[0m\n\u001b[0m                                                  ^\u001b[0m\n\u001b[0;31mSyntaxError\u001b[0m\u001b[0;31m:\u001b[0m positional argument follows keyword argument\n"
     ]
    }
   ],
   "source": [
    "# And we must use named parameters after ordered parameters\n",
    "print_numbers(text='Here are the parameters:', 5, 6)"
   ]
  },
  {
   "cell_type": "code",
   "execution_count": 18,
   "metadata": {},
   "outputs": [
    {
     "name": "stdout",
     "output_type": "stream",
     "text": [
      "Here are the parameters: 5 6\n"
     ]
    }
   ],
   "source": [
    "# But we can use named arguments after ordered ones \n",
    "print_numbers('Here are the parameters:', 5, num2=6)"
   ]
  },
  {
   "cell_type": "code",
   "execution_count": 21,
   "metadata": {},
   "outputs": [
    {
     "name": "stdout",
     "output_type": "stream",
     "text": [
      "11\n",
      "15\n",
      "18\n"
     ]
    }
   ],
   "source": [
    "# Let's define a function with default values\n",
    "def add_numbers(a, b, c=0, d=0):\n",
    "    add = a + b + c + d\n",
    "    \n",
    "    return add\n",
    "\n",
    "print(add_numbers(5, 6))\n",
    "print(add_numbers(5, 6, 4))\n",
    "print(add_numbers(5, 6, 4, 3))\n",
    "\n",
    "print(add_numbers(5, 6, d=3, c=4))\n"
   ]
  },
  {
   "cell_type": "code",
   "execution_count": 25,
   "metadata": {},
   "outputs": [
    {
     "name": "stdout",
     "output_type": "stream",
     "text": [
      "['Default Item']\n",
      "['Default Item', 'Default Item']\n",
      "[1, 2, 3, 'Default Item']\n",
      "[1, 2, 3, 4, 'Default Item']\n"
     ]
    }
   ],
   "source": [
    "# What about mutable default parameters\n",
    "def list_function(my_list=[]):\n",
    "    my_list.append('Default Item')\n",
    "    return my_list\n",
    "\n",
    "print(list_function())\n",
    "print(list_function())\n",
    "\n",
    "print(list_function([1, 2, 3]))\n",
    "print(list_function([1, 2, 3, 4]))"
   ]
  },
  {
   "cell_type": "code",
   "execution_count": 28,
   "metadata": {},
   "outputs": [
    {
     "name": "stdout",
     "output_type": "stream",
     "text": [
      "4610619984\n",
      "['Default Item']\n",
      "4610619984\n",
      "['Default Item', 'Default Item']\n",
      "4610617008\n",
      "[1, 'Default Item']\n"
     ]
    }
   ],
   "source": [
    "# What about mutable default parameters\n",
    "def list_function(my_list=[]):\n",
    "    print(id(my_list))\n",
    "    my_list.append('Default Item')\n",
    "    return my_list\n",
    "\n",
    "print(list_function())\n",
    "print(list_function())\n",
    "    \n",
    "print(list_function([1]))"
   ]
  },
  {
   "cell_type": "code",
   "execution_count": 31,
   "metadata": {},
   "outputs": [
    {
     "name": "stdout",
     "output_type": "stream",
     "text": [
      "4723007648\n",
      "['Default Item']\n",
      "4610621104\n",
      "['Default Item']\n"
     ]
    }
   ],
   "source": [
    "# Let's correct above function\n",
    "def list_function(my_list=None):\n",
    "    if my_list is None:\n",
    "        my_list = []\n",
    "\n",
    "    print(id(my_list))\n",
    "    my_list.append('Default Item')\n",
    "    return my_list\n",
    "\n",
    "print(list_function())\n",
    "print(list_function())"
   ]
  },
  {
   "cell_type": "code",
   "execution_count": 33,
   "metadata": {},
   "outputs": [
    {
     "name": "stdout",
     "output_type": "stream",
     "text": [
      "Before function call: 4610621104\n",
      "Inside function call: 4610621104\n",
      "After append: 4610621104\n",
      "After function call: 4610621104\n"
     ]
    }
   ],
   "source": [
    "# Pass by Object Reference Demonstration\n",
    "def list_function(list_param):\n",
    "    print('Inside function call:', id(list_param))\n",
    "    list_param.append('Default Item')\n",
    "    print('After append:', id(list_param))\n",
    "    return list_param\n",
    "\n",
    "my_list = [1, 2, 3]\n",
    "print('Before function call:', id(my_list))\n",
    "list_function(my_list)\n",
    "print('After function call:', id(my_list))\n"
   ]
  },
  {
   "attachments": {},
   "cell_type": "markdown",
   "metadata": {},
   "source": [
    "*Variable-Lengh Arguments*"
   ]
  },
  {
   "cell_type": "code",
   "execution_count": 37,
   "metadata": {},
   "outputs": [
    {
     "name": "stdout",
     "output_type": "stream",
     "text": [
      "4.0\n",
      "4.5\n",
      "3.5\n"
     ]
    }
   ],
   "source": [
    "# Let's define a function that computes average of 3 numbers\n",
    "def average(a, b, c):\n",
    "    return (a + b + c) / 3\n",
    "\n",
    "def average(a, b, c, d):\n",
    "    return (a + b + c + d) / 4\n",
    "\n",
    "def average(a, b, c, d, e):\n",
    "    return (a + b + c + d + e) / 5\n",
    "\n",
    "def average(num_list):\n",
    "    total = 0\n",
    "    for v in num_list:\n",
    "        total += v\n",
    "    return total / len(num_list)\n",
    "    \n",
    "def average(*args):\n",
    "    total = 0\n",
    "    for v in args:\n",
    "        total += v\n",
    "    return total / len(args)\n",
    "\n",
    "print(average(3, 4, 5))\n",
    "print(average(3, 4, 5, 6))\n",
    "print(average(3, 4))"
   ]
  },
  {
   "cell_type": "code",
   "execution_count": 38,
   "metadata": {},
   "outputs": [
    {
     "data": {
      "text/plain": [
       "16"
      ]
     },
     "execution_count": 38,
     "metadata": {},
     "output_type": "execute_result"
    }
   ],
   "source": [
    "# Passing a tuple instead of specifying each parameter\n",
    "def add_numbers(a, b, c=0, d=0): # Expects 4 parameters, 2 of them have default values\n",
    "    add = a + b + c + d\n",
    "    \n",
    "    return add\n",
    "\n",
    "param_tuple = (3, 4, 4, 5)\n",
    "\n",
    "add_numbers(*param_tuple)"
   ]
  },
  {
   "cell_type": "code",
   "execution_count": 39,
   "metadata": {},
   "outputs": [
    {
     "data": {
      "text/plain": [
       "16"
      ]
     },
     "execution_count": 39,
     "metadata": {},
     "output_type": "execute_result"
    }
   ],
   "source": [
    "# Passing a tuple instead of specifying each parameter\n",
    "def add_numbers(a, b, c=0, d=0): # Expects 4 parameters, 2 of them have default values\n",
    "    add = a + b + c + d\n",
    "    \n",
    "    return add\n",
    "\n",
    "param_tuple = {'a':3, 'b':4, 'c':4, 'd':5}\n",
    "\n",
    "add_numbers(**param_tuple)"
   ]
  },
  {
   "attachments": {},
   "cell_type": "markdown",
   "metadata": {},
   "source": [
    "*Returning Multiple Values and Unpacking them using Tuples*"
   ]
  },
  {
   "cell_type": "code",
   "execution_count": 42,
   "metadata": {},
   "outputs": [
    {
     "name": "stdout",
     "output_type": "stream",
     "text": [
      "(18, -12, 360)\n",
      "<class 'tuple'>\n",
      "18 -12 360\n"
     ]
    }
   ],
   "source": [
    "def do_calculations(a, b, c=0, d=0):\n",
    "    add = a + b + c + d\n",
    "    subtract = a-b-c-d\n",
    "    mult = a*b*c*d\n",
    "    \n",
    "    return add, subtract, mult\n",
    "\n",
    "values = do_calculations(3, 4, 5, 6)\n",
    "print(values)\n",
    "print(type(values))\n",
    "\n",
    "add, subtract, mult = do_calculations(3, 4, 5, 6)\n",
    "print(add, subtract, mult)"
   ]
  }
 ],
 "metadata": {
  "kernelspec": {
   "display_name": ".env",
   "language": "python",
   "name": "python3"
  },
  "language_info": {
   "codemirror_mode": {
    "name": "ipython",
    "version": 3
   },
   "file_extension": ".py",
   "mimetype": "text/x-python",
   "name": "python",
   "nbconvert_exporter": "python",
   "pygments_lexer": "ipython3",
   "version": "3.7.4"
  },
  "orig_nbformat": 4
 },
 "nbformat": 4,
 "nbformat_minor": 2
}
