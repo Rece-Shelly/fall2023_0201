{
 "cells": [
  {
   "attachments": {},
   "cell_type": "markdown",
   "metadata": {},
   "source": [
    "**Demonstration of Functions in Python**"
   ]
  },
  {
   "cell_type": "code",
   "execution_count": 1,
   "metadata": {},
   "outputs": [
    {
     "name": "stdout",
     "output_type": "stream",
     "text": [
      "Weight: 3\n"
     ]
    }
   ],
   "source": [
    "# There are many function calls in this code.  What are they?\n",
    "\n",
    "weight_input = input(\"Please enter your weight in pounds:\")\n",
    "height_input = input(\"Please enter your height in inches:\")\n",
    "print(\"Weight: \" + weight_input)\n",
    "weight = float(weight_input)\n",
    "height = float(height_input)\n",
    "bmi = (weight  / (height ** 2)) * 703\n",
    "bmi = round(bmi)\n",
    "result_bmi = int(bmi)"
   ]
  },
  {
   "cell_type": "code",
   "execution_count": 3,
   "metadata": {},
   "outputs": [
    {
     "data": {
      "text/plain": [
       "11"
      ]
     },
     "execution_count": 3,
     "metadata": {},
     "output_type": "execute_result"
    }
   ],
   "source": [
    "# A function we defined\n",
    "def add_bottles(right_num_bottles, left_num_bottles):\n",
    "\ttotal_bottles = right_num_bottles + left_num_bottles\n",
    "\treturn total_bottles\n",
    "\n",
    "right_bottles = 6 # num of bottles in the right hand\n",
    "left_bottles = 5 # num of bottles in the left hand \n",
    "\n",
    "number_of_bottles = add_bottles(right_bottles,left_bottles)\n",
    "number_of_bottles"
   ]
  },
  {
   "cell_type": "code",
   "execution_count": 4,
   "metadata": {},
   "outputs": [
    {
     "name": "stdout",
     "output_type": "stream",
     "text": [
      "Hello Glenn\n",
      "Hello Sally\n"
     ]
    }
   ],
   "source": [
    "# Return values\n",
    "def greet():\n",
    "    return \"Hello\"\n",
    "\n",
    "print(greet(), \"Glenn\")\n",
    "print(greet(), \"Sally\")"
   ]
  },
  {
   "cell_type": "code",
   "execution_count": 9,
   "metadata": {},
   "outputs": [
    {
     "name": "stdout",
     "output_type": "stream",
     "text": [
      "Nothing to return but something to print\n",
      "Nothing to return but something to print\n",
      "The value of void_value= None\n",
      "The type of void_value variable= <class 'NoneType'>\n"
     ]
    }
   ],
   "source": [
    "# Void Functions: No return value\n",
    "def void_function():\n",
    "    print('Nothing to return but something to print')\n",
    "\n",
    "void_function()\n",
    "\n",
    "void_value = void_function()\n",
    "print('The value of void_value=', void_value)\n",
    "print('The type of void_value variable=', type(void_value))"
   ]
  }
 ],
 "metadata": {
  "kernelspec": {
   "display_name": ".env",
   "language": "python",
   "name": "python3"
  },
  "language_info": {
   "codemirror_mode": {
    "name": "ipython",
    "version": 3
   },
   "file_extension": ".py",
   "mimetype": "text/x-python",
   "name": "python",
   "nbconvert_exporter": "python",
   "pygments_lexer": "ipython3",
   "version": "3.7.4"
  },
  "orig_nbformat": 4
 },
 "nbformat": 4,
 "nbformat_minor": 2
}
